{
 "cells": [
  {
   "cell_type": "code",
   "execution_count": 1,
   "id": "c6ef429f-dc48-4fe6-b952-0ecdaa77bc5d",
   "metadata": {},
   "outputs": [],
   "source": [
    "import numpy as np"
   ]
  },
  {
   "cell_type": "code",
   "execution_count": 3,
   "id": "a5828281-356b-46f6-8a4e-1eae93400643",
   "metadata": {},
   "outputs": [
    {
     "name": "stdout",
     "output_type": "stream",
     "text": [
      "[1 2 3 4 5]\n"
     ]
    }
   ],
   "source": [
    "#1차원 배열(list)로 numpy 배열 생성\n",
    "arr = np.array([1,2,3,4,5])\n",
    "print(arr)"
   ]
  },
  {
   "cell_type": "code",
   "execution_count": 5,
   "id": "4fd8954a-690e-42a3-b42e-bb1b5c9e4967",
   "metadata": {},
   "outputs": [
    {
     "name": "stdout",
     "output_type": "stream",
     "text": [
      "[[1 2 3]\n",
      " [4 5 6]]\n"
     ]
    }
   ],
   "source": [
    "#2차원 배열(list)로 numpy 배열 생성\n",
    "arr = np.array([[1,2,3], [4,5,6]])\n",
    "print(arr)"
   ]
  },
  {
   "cell_type": "code",
   "execution_count": 6,
   "id": "3ef2d7c5-8c69-4fcb-af3e-bf0d7f6f97fc",
   "metadata": {},
   "outputs": [
    {
     "name": "stdout",
     "output_type": "stream",
     "text": [
      "[[[1 2 3]\n",
      "  [4 5 6]\n",
      "  [7 8 9]]\n",
      "\n",
      " [[1 2 3]\n",
      "  [4 5 6]\n",
      "  [7 8 9]]\n",
      "\n",
      " [[1 2 3]\n",
      "  [4 5 6]\n",
      "  [7 8 9]]]\n"
     ]
    }
   ],
   "source": [
    "#3차원 배열(list)로 numpy 배열 생성\n",
    "arr = np.array([[[1,2,3], [4,5,6], [7,8,9]],\n",
    "                [[1,2,3], [4,5,6], [7,8,9]],\n",
    "                [[1,2,3], [4,5,6], [7,8,9]]])\n",
    "print(arr)"
   ]
  },
  {
   "cell_type": "code",
   "execution_count": 8,
   "id": "89ab1e61-b57c-4c30-afdd-15f3a722e146",
   "metadata": {},
   "outputs": [
    {
     "name": "stdout",
     "output_type": "stream",
     "text": [
      "[0. 0. 0. 0. 0. 0. 0. 0. 0. 0.]\n",
      "\n",
      "[[0. 0. 0.]\n",
      " [0. 0. 0.]\n",
      " [0. 0. 0.]]\n",
      "\n",
      "[1. 1. 1. 1. 1. 1. 1. 1. 1. 1.]\n",
      "\n",
      "[[1. 1. 1.]\n",
      " [1. 1. 1.]\n",
      " [1. 1. 1.]]\n",
      "\n",
      "[[1.5 1.5 1.5]\n",
      " [1.5 1.5 1.5]\n",
      " [1.5 1.5 1.5]]\n",
      "\n",
      "[[1. 0. 0.]\n",
      " [0. 1. 0.]\n",
      " [0. 0. 1.]]\n",
      "\n"
     ]
    }
   ],
   "source": [
    "#배열 생성 및 초기화\n",
    "a = np.zeros(10) #주어진 형태와 타입을 알고, 그것을 0으로 채움\n",
    "b = np.zeros((3,3))\n",
    "c = np.ones(10) #주어진 형태와 타입을 알고, 그것을 1로 채움\n",
    "d = np.ones((3,3))\n",
    "e = np.full((3,3), 1.5) #주어진 형태를 알고, 그것을 특정한 값으로 채움\n",
    "f = np.eye(3) #정사각형 행렬 생성, 주 대각선의 원소가 모두 1이고, 나머지는 모두 0\n",
    "\n",
    "pr_list = [a,b,c,d,e,f]\n",
    "\n",
    "for i in pr_list:\n",
    "    print(i)\n",
    "    print(\"\")"
   ]
  },
  {
   "cell_type": "code",
   "execution_count": 2,
   "id": "93868e61-62a7-4428-98c6-69775677c398",
   "metadata": {},
   "outputs": [
    {
     "name": "stdout",
     "output_type": "stream",
     "text": [
      "[ 1  2  3  4  5  6  7  8  9 10 11 12 13 14 15 16 17 18 19 20]\n",
      "\n",
      "[ 1  3  5  7  9 11 13 15 17 19]\n"
     ]
    }
   ],
   "source": [
    "#np.arange(시작, 끝+1, 간격) -> 정수 범위로 배열 생성\n",
    "a = np.arange(1, 21)\n",
    "b = np.arange(1, 21, 2)\n",
    "print(a)\n",
    "print(\"\")\n",
    "print(b)"
   ]
  },
  {
   "cell_type": "code",
   "execution_count": 4,
   "id": "1489c134-6042-4293-99d7-849ea39fb407",
   "metadata": {},
   "outputs": [
    {
     "name": "stdout",
     "output_type": "stream",
     "text": [
      "[ 1.    5.75 10.5  15.25 20.  ]\n",
      "\n",
      "[ 0.   2.5  5.   7.5 10. ]\n"
     ]
    }
   ],
   "source": [
    "#np.linspace(시작, 끝, 개수) -> 범위 내에서 균등 간격의 '개수' 개의 배열 생성\n",
    "a = np.linspace(1, 20, 5)\n",
    "b = np.linspace(0, 10, 5)\n",
    "print(a)\n",
    "print(\"\")\n",
    "print(b)"
   ]
  },
  {
   "cell_type": "code",
   "execution_count": 6,
   "id": "a9522b7f-52d3-4acf-b36e-dbc8c7751167",
   "metadata": {},
   "outputs": [
    {
     "name": "stdout",
     "output_type": "stream",
     "text": [
      "[ 10.          17.7827941   31.6227766   56.23413252 100.        ]\n",
      "\n",
      "[ 10.          17.7827941   31.6227766   56.23413252 100.        ]\n"
     ]
    }
   ],
   "source": [
    "#np.logspace(np.log(시작), np.log(끝), 개수) -> 로그 범위 내에서 균등 배열 생성\n",
    "a = np.logspace(np.log10(10), np.log10(100), 5)\n",
    "b = np.logspace(1, 2, 5)\n",
    "print(a)\n",
    "print(\"\")\n",
    "print(b)"
   ]
  },
  {
   "cell_type": "code",
   "execution_count": 7,
   "id": "ff507271-a362-47ed-b924-65e1006791cf",
   "metadata": {},
   "outputs": [
    {
     "name": "stdout",
     "output_type": "stream",
     "text": [
      "0.7390524616354992\n",
      "\n",
      "[[0.78607198 0.31421036 0.48126903 0.31266258]\n",
      " [0.01836328 0.56862556 0.79923629 0.06267364]\n",
      " [0.27600189 0.05057944 0.95043681 0.37916632]\n",
      " [0.62454584 0.12098646 0.60969578 0.49041525]]\n"
     ]
    }
   ],
   "source": [
    "#random(사이즈) -> 랜덤한 수의 배열 생성\n",
    "a = np.random.random()\n",
    "b = np.random.random((4,4))\n",
    "print(a)\n",
    "print(\"\")\n",
    "print(b)"
   ]
  },
  {
   "cell_type": "code",
   "execution_count": 9,
   "id": "af7cb1bc-4462-4195-a2ea-b608e8cf4ee4",
   "metadata": {},
   "outputs": [
    {
     "name": "stdout",
     "output_type": "stream",
     "text": [
      "9\n",
      "\n",
      "[[6 6 1 3]\n",
      " [8 8 6 5]\n",
      " [7 4 3 9]\n",
      " [6 9 8 1]]\n"
     ]
    }
   ],
   "source": [
    "#randint(시작, 끝, 사이즈) -> 랜덤한 \"정수\"의 배열 생성\n",
    "a = np.random.randint(1,10)\n",
    "b = np.random.randint(1,10,(4,4))\n",
    "print(a)\n",
    "print(\"\")\n",
    "print(b)"
   ]
  },
  {
   "cell_type": "code",
   "execution_count": 12,
   "id": "b395c9ff-3053-433f-8c26-946509f026b5",
   "metadata": {},
   "outputs": [
    {
     "name": "stdout",
     "output_type": "stream",
     "text": [
      "[[0.65116683 0.08713583 0.16999748]\n",
      " [0.43893648 0.15132636 0.92755323]\n",
      " [0.3584053  0.63137132 0.01350276]]\n"
     ]
    }
   ],
   "source": [
    "#rand(d0, d1, d2,...,dn) -> 크기가 (d0 ~ dn)인 배열 생성 후 난수로 초기화: \"균등분포\"를 고려\n",
    "a = np.random.rand(3,3)\n",
    "print(a)"
   ]
  },
  {
   "cell_type": "code",
   "execution_count": 13,
   "id": "fff9556b-4f84-44b5-a67e-cdaf6d646df6",
   "metadata": {},
   "outputs": [
    {
     "name": "stdout",
     "output_type": "stream",
     "text": [
      "[[-0.19423223  0.36438403  0.94198471]\n",
      " [-0.16303066  0.2927649   0.95127289]\n",
      " [ 1.26538604 -2.34578987  0.42121858]]\n"
     ]
    }
   ],
   "source": [
    "#randn(d0, d1, d2,...,dn) -> 크기가 (d0 ~ dn)인 배열 생성 후 난수로 초기화: \"정규분포\"를 고려\n",
    "a = np.random.randn(3,3)\n",
    "print(a)"
   ]
  },
  {
   "cell_type": "code",
   "execution_count": null,
   "id": "4e4e1a76-e9c8-483f-b861-f3cf129df628",
   "metadata": {},
   "outputs": [],
   "source": []
  }
 ],
 "metadata": {
  "kernelspec": {
   "display_name": "Python 3 (ipykernel)",
   "language": "python",
   "name": "python3"
  },
  "language_info": {
   "codemirror_mode": {
    "name": "ipython",
    "version": 3
   },
   "file_extension": ".py",
   "mimetype": "text/x-python",
   "name": "python",
   "nbconvert_exporter": "python",
   "pygments_lexer": "ipython3",
   "version": "3.9.13"
  }
 },
 "nbformat": 4,
 "nbformat_minor": 5
}
