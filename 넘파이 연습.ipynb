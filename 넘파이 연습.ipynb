{
 "cells": [
  {
   "cell_type": "code",
   "execution_count": 1,
   "id": "c6ef429f-dc48-4fe6-b952-0ecdaa77bc5d",
   "metadata": {},
   "outputs": [],
   "source": [
    "import numpy as np"
   ]
  },
  {
   "cell_type": "code",
   "execution_count": 3,
   "id": "a5828281-356b-46f6-8a4e-1eae93400643",
   "metadata": {},
   "outputs": [
    {
     "name": "stdout",
     "output_type": "stream",
     "text": [
      "[1 2 3 4 5]\n"
     ]
    }
   ],
   "source": [
    "#1차원 배열(list)로 numpy 배열 생성\n",
    "arr = np.array([1,2,3,4,5])\n",
    "print(arr)"
   ]
  },
  {
   "cell_type": "code",
   "execution_count": 5,
   "id": "4fd8954a-690e-42a3-b42e-bb1b5c9e4967",
   "metadata": {},
   "outputs": [
    {
     "name": "stdout",
     "output_type": "stream",
     "text": [
      "[[1 2 3]\n",
      " [4 5 6]]\n"
     ]
    }
   ],
   "source": [
    "#2차원 배열(list)로 numpy 배열 생성\n",
    "arr = np.array([[1,2,3], [4,5,6]])\n",
    "print(arr)"
   ]
  },
  {
   "cell_type": "code",
   "execution_count": 6,
   "id": "3ef2d7c5-8c69-4fcb-af3e-bf0d7f6f97fc",
   "metadata": {},
   "outputs": [
    {
     "name": "stdout",
     "output_type": "stream",
     "text": [
      "[[[1 2 3]\n",
      "  [4 5 6]\n",
      "  [7 8 9]]\n",
      "\n",
      " [[1 2 3]\n",
      "  [4 5 6]\n",
      "  [7 8 9]]\n",
      "\n",
      " [[1 2 3]\n",
      "  [4 5 6]\n",
      "  [7 8 9]]]\n"
     ]
    }
   ],
   "source": [
    "#3차원 배열(list)로 numpy 배열 생성\n",
    "arr = np.array([[[1,2,3], [4,5,6], [7,8,9]],\n",
    "                [[1,2,3], [4,5,6], [7,8,9]],\n",
    "                [[1,2,3], [4,5,6], [7,8,9]]])\n",
    "print(arr)"
   ]
  },
  {
   "cell_type": "code",
   "execution_count": 8,
   "id": "89ab1e61-b57c-4c30-afdd-15f3a722e146",
   "metadata": {},
   "outputs": [
    {
     "name": "stdout",
     "output_type": "stream",
     "text": [
      "[0. 0. 0. 0. 0. 0. 0. 0. 0. 0.]\n",
      "\n",
      "[[0. 0. 0.]\n",
      " [0. 0. 0.]\n",
      " [0. 0. 0.]]\n",
      "\n",
      "[1. 1. 1. 1. 1. 1. 1. 1. 1. 1.]\n",
      "\n",
      "[[1. 1. 1.]\n",
      " [1. 1. 1.]\n",
      " [1. 1. 1.]]\n",
      "\n",
      "[[1.5 1.5 1.5]\n",
      " [1.5 1.5 1.5]\n",
      " [1.5 1.5 1.5]]\n",
      "\n",
      "[[1. 0. 0.]\n",
      " [0. 1. 0.]\n",
      " [0. 0. 1.]]\n",
      "\n"
     ]
    }
   ],
   "source": [
    "#배열 생성 및 초기화\n",
    "a = np.zeros(10) #주어진 형태와 타입을 알고, 그것을 0으로 채움\n",
    "b = np.zeros((3,3))\n",
    "c = np.ones(10) #주어진 형태와 타입을 알고, 그것을 1로 채움\n",
    "d = np.ones((3,3))\n",
    "e = np.full((3,3), 1.5) #주어진 형태를 알고, 그것을 특정한 값으로 채움\n",
    "f = np.eye(3) #정사각형 행렬 생성, 주 대각선의 원소가 모두 1이고, 나머지는 모두 0\n",
    "\n",
    "pr_list = [a,b,c,d,e,f]\n",
    "\n",
    "for i in pr_list:\n",
    "    print(i)\n",
    "    print(\"\")"
   ]
  },
  {
   "cell_type": "code",
   "execution_count": 2,
   "id": "93868e61-62a7-4428-98c6-69775677c398",
   "metadata": {},
   "outputs": [
    {
     "name": "stdout",
     "output_type": "stream",
     "text": [
      "[ 1  2  3  4  5  6  7  8  9 10 11 12 13 14 15 16 17 18 19 20]\n",
      "\n",
      "[ 1  3  5  7  9 11 13 15 17 19]\n"
     ]
    }
   ],
   "source": [
    "#np.arange(시작, 끝+1, 간격) -> 정수 범위로 배열 생성\n",
    "a = np.arange(1, 21)\n",
    "b = np.arange(1, 21, 2)\n",
    "print(a)\n",
    "print(\"\")\n",
    "print(b)"
   ]
  },
  {
   "cell_type": "code",
   "execution_count": 4,
   "id": "1489c134-6042-4293-99d7-849ea39fb407",
   "metadata": {},
   "outputs": [
    {
     "name": "stdout",
     "output_type": "stream",
     "text": [
      "[ 1.    5.75 10.5  15.25 20.  ]\n",
      "\n",
      "[ 0.   2.5  5.   7.5 10. ]\n"
     ]
    }
   ],
   "source": [
    "#np.linspace(시작, 끝, 개수) -> 범위 내에서 균등 간격의 '개수' 개의 배열 생성\n",
    "a = np.linspace(1, 20, 5)\n",
    "b = np.linspace(0, 10, 5)\n",
    "print(a)\n",
    "print(\"\")\n",
    "print(b)"
   ]
  },
  {
   "cell_type": "code",
   "execution_count": 6,
   "id": "a9522b7f-52d3-4acf-b36e-dbc8c7751167",
   "metadata": {},
   "outputs": [
    {
     "name": "stdout",
     "output_type": "stream",
     "text": [
      "[ 10.          17.7827941   31.6227766   56.23413252 100.        ]\n",
      "\n",
      "[ 10.          17.7827941   31.6227766   56.23413252 100.        ]\n"
     ]
    }
   ],
   "source": [
    "#np.logspace(np.log(시작), np.log(끝), 개수) -> 로그 범위 내에서 균등 배열 생성\n",
    "a = np.logspace(np.log10(10), np.log10(100), 5)\n",
    "b = np.logspace(1, 2, 5)\n",
    "print(a)\n",
    "print(\"\")\n",
    "print(b)"
   ]
  },
  {
   "cell_type": "code",
   "execution_count": 7,
   "id": "ff507271-a362-47ed-b924-65e1006791cf",
   "metadata": {},
   "outputs": [
    {
     "name": "stdout",
     "output_type": "stream",
     "text": [
      "0.7390524616354992\n",
      "\n",
      "[[0.78607198 0.31421036 0.48126903 0.31266258]\n",
      " [0.01836328 0.56862556 0.79923629 0.06267364]\n",
      " [0.27600189 0.05057944 0.95043681 0.37916632]\n",
      " [0.62454584 0.12098646 0.60969578 0.49041525]]\n"
     ]
    }
   ],
   "source": [
    "#random(사이즈) -> 랜덤한 수의 배열 생성\n",
    "a = np.random.random()\n",
    "b = np.random.random((4,4))\n",
    "print(a)\n",
    "print(\"\")\n",
    "print(b)"
   ]
  },
  {
   "cell_type": "code",
   "execution_count": 9,
   "id": "af7cb1bc-4462-4195-a2ea-b608e8cf4ee4",
   "metadata": {},
   "outputs": [
    {
     "name": "stdout",
     "output_type": "stream",
     "text": [
      "9\n",
      "\n",
      "[[6 6 1 3]\n",
      " [8 8 6 5]\n",
      " [7 4 3 9]\n",
      " [6 9 8 1]]\n"
     ]
    }
   ],
   "source": [
    "#randint(시작, 끝, 사이즈) -> 랜덤한 \"정수\"의 배열 생성\n",
    "a = np.random.randint(1,10)\n",
    "b = np.random.randint(1,10,(4,4))\n",
    "print(a)\n",
    "print(\"\")\n",
    "print(b)"
   ]
  },
  {
   "cell_type": "code",
   "execution_count": 12,
   "id": "b395c9ff-3053-433f-8c26-946509f026b5",
   "metadata": {},
   "outputs": [
    {
     "name": "stdout",
     "output_type": "stream",
     "text": [
      "[[0.65116683 0.08713583 0.16999748]\n",
      " [0.43893648 0.15132636 0.92755323]\n",
      " [0.3584053  0.63137132 0.01350276]]\n"
     ]
    }
   ],
   "source": [
    "#rand(d0, d1, d2,...,dn) -> 크기가 (d0 ~ dn)인 배열 생성 후 난수로 초기화: \"균등분포\"를 고려\n",
    "a = np.random.rand(3,3)\n",
    "print(a)"
   ]
  },
  {
   "cell_type": "code",
   "execution_count": 13,
   "id": "fff9556b-4f84-44b5-a67e-cdaf6d646df6",
   "metadata": {},
   "outputs": [
    {
     "name": "stdout",
     "output_type": "stream",
     "text": [
      "[[-0.19423223  0.36438403  0.94198471]\n",
      " [-0.16303066  0.2927649   0.95127289]\n",
      " [ 1.26538604 -2.34578987  0.42121858]]\n"
     ]
    }
   ],
   "source": [
    "#randn(d0, d1, d2,...,dn) -> 크기가 (d0 ~ dn)인 배열 생성 후 난수로 초기화: \"정규분포\"를 고려\n",
    "a = np.random.randn(3,3)\n",
    "print(a)"
   ]
  },
  {
   "cell_type": "markdown",
   "id": "2df9c436-7cf8-4b6a-8ebd-08f7ac8940a5",
   "metadata": {},
   "source": [
    "### 넘파이 표준 데이터 타입\n",
    "- np.int32/64 -> 64비트 정수 타입\n",
    "- np.float32/64 -> 32비트 부동 소수 타입\n",
    "- np.bool -> 부울형(True, False)\n",
    "- np.object -> 파이썬 객체 타입\n",
    "- np.comflex -> 복소수(128float)"
   ]
  },
  {
   "cell_type": "code",
   "execution_count": 6,
   "id": "444f3b44-37ae-4666-ba88-4267ee3f62bc",
   "metadata": {},
   "outputs": [
    {
     "name": "stdout",
     "output_type": "stream",
     "text": [
      "[1 2 3 4 5]\n",
      "ndim: 1\n",
      "shape: (5,)\n",
      "dtype: int64\n",
      "size: 5\n",
      "itemsize: 8\n",
      "nbytes: 40\n"
     ]
    }
   ],
   "source": [
    "#배열의 속성\n",
    "arr = np.arange(1,6)\n",
    "print(arr)\n",
    "print('ndim:', arr.ndim) # 배열 차원 수 또는 배열 축의 수\n",
    "print('shape:', arr.shape) # 배열 각 차원의 크기를 튜플 형태로 표현\n",
    "print('dtype:', arr.dtype) #배열 내 원소의 데이터형\n",
    "print('size:', arr.size) #배열 원소의 개수\n",
    "print('itemsize:', arr.itemsize) # 배열 내 원소의 크기를 바이트 단위로 기술\n",
    "print('nbytes:', arr.nbytes) #배열 전체 바이트"
   ]
  },
  {
   "cell_type": "code",
   "execution_count": 7,
   "id": "ccb89c59-c73d-403b-933c-c53795aa3d00",
   "metadata": {},
   "outputs": [
    {
     "name": "stdout",
     "output_type": "stream",
     "text": [
      "[0 1 2 3 4 5 6 7 8]\n",
      "0\n",
      "8\n",
      "[10  1  2  3  4  5  6  7  8]\n"
     ]
    }
   ],
   "source": [
    "#1차원 배열의 인덱싱 및 변경\n",
    "a1 = np.arange(9) #1차원 배열\n",
    "print(a1)\n",
    "print(a1[0])\n",
    "print(a1[-1])\n",
    "a1[0] = 10 #요소변경\n",
    "print(a1)"
   ]
  },
  {
   "cell_type": "code",
   "execution_count": 9,
   "id": "aee03e30-cb80-42aa-890a-8b8ba23b7107",
   "metadata": {},
   "outputs": [
    {
     "name": "stdout",
     "output_type": "stream",
     "text": [
      "[[0 1 2]\n",
      " [3 4 5]\n",
      " [6 7 8]]\n",
      "1\n",
      "5\n",
      "[[10  1  2]\n",
      " [ 3  4  5]\n",
      " [ 6  7  8]]\n"
     ]
    }
   ],
   "source": [
    "#2차원 배열의 인덱싱 및 변경\n",
    "a2 = np.arange(9).reshape((3,3)) #2차원 배열\n",
    "print(a2)\n",
    "print(a2[0,1]) #1행 두 번째 컬럼 요소 참조\n",
    "print(a2[1,2]) #2행 세 번째 컬럼 요소 참조\n",
    "a2[0,0] = 10 #1행 첫 번째 컬럼 업데이트\n",
    "print(a2)"
   ]
  },
  {
   "cell_type": "markdown",
   "id": "3395f544-1c16-4602-a527-d018d493c26c",
   "metadata": {},
   "source": [
    "### 배열의 슬라이싱\n",
    "- 범위 지정에서 시작 인덱스가 생략될 경우 = 0으로 간주\n",
    "- 종료 인덱스가 생략될 경우 = -1(마지막 인덱스)로 간주\n",
    "- ':' 형태로 지정된 범위는 전체 범위\n",
    "- 시작 인덱스와 종료 인덱스에 음수를 지정 -> 반대 방향"
   ]
  },
  {
   "cell_type": "code",
   "execution_count": 10,
   "id": "06b0558e-10a8-44fa-9e37-ceea793b0441",
   "metadata": {},
   "outputs": [
    {
     "name": "stdout",
     "output_type": "stream",
     "text": [
      "[0 1 2 3 4 5]\n",
      "[0 1 2]\n",
      "[1 2 3 4 5]\n",
      "[4 5]\n",
      "[0 1 2]\n",
      "[0 2 4]\n",
      "[5 4 3 2 1 0]\n"
     ]
    }
   ],
   "source": [
    "#1차원 배열의 슬라이싱\n",
    "a1 = np.arange(6)\n",
    "print(a1)\n",
    "print(a1[0:3])\n",
    "print(a1[1:])\n",
    "print(a1[-2:])\n",
    "print(a1[:-3])\n",
    "print(a1[::2])\n",
    "print(a1[::-1])"
   ]
  },
  {
   "cell_type": "code",
   "execution_count": 13,
   "id": "5cf952c9-59ea-4c87-a79b-9cb0fe59e857",
   "metadata": {},
   "outputs": [
    {
     "name": "stdout",
     "output_type": "stream",
     "text": [
      "[[ 1  2  3  4  5  6]\n",
      " [ 7  8  9 10 11 12]\n",
      " [13 14 15 16 17 18]\n",
      " [19 20 21 22 23 24]]\n",
      "[ 7  8  9 10 11 12]\n",
      "[[ 8  9 10 11]\n",
      " [14 15 16 17]]\n",
      "[13 14 15 16 17 18]\n",
      "[[ 1  2  3]\n",
      " [ 7  8  9]\n",
      " [13 14 15]]\n",
      "[[18 17 16 15 14 13]\n",
      " [24 23 22 21 20 19]]\n",
      "[[24 23 22 21 20 19]\n",
      " [18 17 16 15 14 13]\n",
      " [12 11 10  9  8  7]\n",
      " [ 6  5  4  3  2  1]]\n"
     ]
    }
   ],
   "source": [
    "#2차원 배열의 슬라이싱\n",
    "a2 = np.arange(1, 25).reshape((4,6))\n",
    "print(a2)\n",
    "print(a2[1])\n",
    "print(a2[1:3, 1:5])\n",
    "print(a2[2,:])\n",
    "print(a2[:3, :3])\n",
    "print(a2[2:,::-1])\n",
    "print(a2[::-1,::-1])"
   ]
  },
  {
   "cell_type": "code",
   "execution_count": 16,
   "id": "6c633663-9a81-458d-afd9-bd89aeba4348",
   "metadata": {},
   "outputs": [
    {
     "name": "stdout",
     "output_type": "stream",
     "text": [
      "[1 2 3 4 5]\n",
      "[1 4]\n"
     ]
    }
   ],
   "source": [
    "#불리언 인덱싱 개념\n",
    "a = np.arange(1,6)\n",
    "print(a)\n",
    "b = [True, False, False, True, False]\n",
    "print(a[b])"
   ]
  },
  {
   "cell_type": "code",
   "execution_count": 18,
   "id": "affa5284-471a-4462-a415-811b35b76622",
   "metadata": {},
   "outputs": [
    {
     "name": "stdout",
     "output_type": "stream",
     "text": [
      "[0 1 2 3 4]\n",
      "[ 5  6  7  8  9 10]\n",
      "[ 0  2  4  6  8 10]\n"
     ]
    }
   ],
   "source": [
    "#불리언 인덱싱: 비교 연산자 사용\n",
    "a = np.arange(11)\n",
    "print(a[a<5])\n",
    "five_up = (a>=5)\n",
    "five_up\n",
    "print(a[five_up])\n",
    "divide_by_2 = a[a%2 == 0]\n",
    "print(divide_by_2)"
   ]
  },
  {
   "cell_type": "code",
   "execution_count": 19,
   "id": "4663c567-e01b-4e3a-ba53-2802d4a1c686",
   "metadata": {},
   "outputs": [
    {
     "name": "stdout",
     "output_type": "stream",
     "text": [
      "[ 6  7  8  9 10]\n",
      "[ 0  1  2  3  4 10]\n",
      "[ 1  2  4  5  7  8 10]\n"
     ]
    }
   ],
   "source": [
    "#불리언 인덱싱: 관계 연산자 사용\n",
    "\n",
    "#논리 연산자 사용 (& | ~)\n",
    "c = a[(a > 5) & (a < 11)] #and\n",
    "print(c)\n",
    "d = a[(a > 9) | (a < 5)] # or\n",
    "print(d)\n",
    "e = a[~(a % 3 == 0)] #not\n",
    "print(e)"
   ]
  },
  {
   "cell_type": "code",
   "execution_count": 20,
   "id": "2126a139-94f7-4b5e-a91f-6c6b377f68af",
   "metadata": {},
   "outputs": [
    {
     "name": "stdout",
     "output_type": "stream",
     "text": [
      "[ 2  4  6  8 10 12 14 16 18 20]\n",
      "[ 2  4  6  8 10 12 14 16 18 20]\n",
      "[0 0 0 0 0 0 0 0 0 0]\n",
      "[0 0 0 0 0 0 0 0 0 0]\n",
      "[  1   4   9  16  25  36  49  64  81 100]\n",
      "[  1   4   9  16  25  36  49  64  81 100]\n",
      "[1. 1. 1. 1. 1. 1. 1. 1. 1. 1.]\n",
      "[1. 1. 1. 1. 1. 1. 1. 1. 1. 1.]\n"
     ]
    }
   ],
   "source": [
    "#배열의 산술 연산: 사칙연산 연산자와 함수 활용\n",
    "a = np.arange(1,11)\n",
    "b = np.arange(1,11)\n",
    "print(a+b)\n",
    "print(np.add(a,b)) #덧셈 함수\n",
    "print(a-b)\n",
    "print(np.subtract(a,b)) # 뺄셈 함수\n",
    "print(a*b)\n",
    "print(np.multiply(a,b)) #곱셈 함수\n",
    "print(a/b)\n",
    "print(np.divide(a,b)) #나눗셈 함수"
   ]
  },
  {
   "cell_type": "code",
   "execution_count": 21,
   "id": "87a63a7c-1901-4f10-9adf-b028762010e9",
   "metadata": {},
   "outputs": [
    {
     "name": "stdout",
     "output_type": "stream",
     "text": [
      "[2.71828183e+00 7.38905610e+00 2.00855369e+01 5.45981500e+01\n",
      " 1.48413159e+02 4.03428793e+02 1.09663316e+03 2.98095799e+03\n",
      " 8.10308393e+03 2.20264658e+04]\n",
      "[1.         1.41421356 1.73205081 2.         2.23606798 2.44948974\n",
      " 2.64575131 2.82842712 3.         3.16227766]\n",
      "[ 0.84147098  0.90929743  0.14112001 -0.7568025  -0.95892427 -0.2794155\n",
      "  0.6569866   0.98935825  0.41211849 -0.54402111]\n",
      "[ 0.54030231 -0.41614684 -0.9899925  -0.65364362  0.28366219  0.96017029\n",
      "  0.75390225 -0.14550003 -0.91113026 -0.83907153]\n",
      "[ 1.55740772 -2.18503986 -0.14254654  1.15782128 -3.38051501 -0.29100619\n",
      "  0.87144798 -6.79971146 -0.45231566  0.64836083]\n",
      "[0.         0.69314718 1.09861229 1.38629436 1.60943791 1.79175947\n",
      " 1.94591015 2.07944154 2.19722458 2.30258509]\n"
     ]
    }
   ],
   "source": [
    "#기타 연산: 지수/제곱근/sin/cos/tan/log\n",
    "a = np.arange(1,11)\n",
    "print(np.exp(a)) # 지수\n",
    "print(np.sqrt(a)) #제곱근\n",
    "print(np.sin(a)) #sin\n",
    "print(np.cos(a)) #cos\n",
    "print(np.tan(a)) #tan\n",
    "print(np.log(a)) #log"
   ]
  },
  {
   "cell_type": "markdown",
   "id": "71721759-5a71-44ba-a6ba-38ecd1a04c9a",
   "metadata": {},
   "source": [
    "### 집계 함수\n",
    "- 집계 함수는 축(axis)을 기준으로 계산\n",
    "- axis 지정 X -> axis = None\n",
    "- case1: axis = None\n",
    "  전체 행렬을 하나의 배열로 간주하고, 집계 함수의 범위를 전체 행렬로 정의\n",
    "- case2: axis = 0\n",
    "  행(세로)을 기준으로 각 행의 동일 인덱스의 요소를 그룹으로 함.\n",
    "  각 그룹을 집계 함수의 범위로 정의\n",
    "- case3: axis = 1\n",
    "  열(가로)를 기준으로 각 열의 요소를 그룹으로 함.\n",
    "  각 그룹을 집계 함수의 범위로 정의"
   ]
  },
  {
   "cell_type": "code",
   "execution_count": 23,
   "id": "d94007aa-3e67-4d30-a05f-1e3c68890334",
   "metadata": {},
   "outputs": [
    {
     "name": "stdout",
     "output_type": "stream",
     "text": [
      "45\n",
      "45\n",
      "[[1 2 3]\n",
      " [4 5 6]\n",
      " [7 8 9]]\n",
      "[12 15 18]\n",
      "[ 6 15 24]\n"
     ]
    }
   ],
   "source": [
    "#합계: [ndarray 배열 객체].sum(), np.sim()\n",
    "a = np.arange(1,10).reshape(3,3)\n",
    "print(a.sum()) #axis = None\n",
    "print(np.sum(a))\n",
    "print(a)\n",
    "b = a.sum(axis = 0)\n",
    "print(b)\n",
    "c = a.sum(axis = 1)\n",
    "print(c)"
   ]
  },
  {
   "cell_type": "code",
   "execution_count": 27,
   "id": "95551d3b-d192-4e57-bf37-79f0a437306f",
   "metadata": {},
   "outputs": [
    {
     "name": "stdout",
     "output_type": "stream",
     "text": [
      "[[1 2 3]\n",
      " [4 5 6]\n",
      " [7 8 9]]\n",
      "9 9\n",
      "[7 8 9] [7 8 9]\n",
      "[3 6 9] [3 6 9]\n"
     ]
    }
   ],
   "source": [
    "#최댓값: [ndarray 배열 객체].max(), np.max()\n",
    "a = np.arange(1,10).reshape(3,3)\n",
    "print(a)\n",
    "print(a.max(),np.max(a)) #axis = None\n",
    "print(a.max(axis = 0), np.max(a, axis=0))\n",
    "print(a.max(axis = 1), np.max(a, axis=1))"
   ]
  },
  {
   "cell_type": "code",
   "execution_count": 28,
   "id": "c223e0c2-7824-4af4-81d5-34daba69eb4c",
   "metadata": {},
   "outputs": [
    {
     "name": "stdout",
     "output_type": "stream",
     "text": [
      "[[1 2 3]\n",
      " [4 5 6]\n",
      " [7 8 9]]\n",
      "1 1\n",
      "[1 2 3] [1 2 3]\n",
      "[1 4 7] [1 4 7]\n"
     ]
    }
   ],
   "source": [
    "#최솟값: [ndarray 배열 객체].min(), np.min()\n",
    "a = np.arange(1,10).reshape(3,3)\n",
    "print(a)\n",
    "print(a.min(), np.min(a)) #axis = None\n",
    "print(a.min(axis = 0), np.min(a, axis = 0))\n",
    "print(a.min(axis = 1), np.min(a, axis = 1))"
   ]
  },
  {
   "cell_type": "code",
   "execution_count": 31,
   "id": "1a252de8-4497-4a02-9a4c-4df9fa04ab56",
   "metadata": {},
   "outputs": [
    {
     "name": "stdout",
     "output_type": "stream",
     "text": [
      "[[1 2 3]\n",
      " [4 5 6]\n",
      " [7 8 9]]\n",
      "5.0 5.0\n",
      "[4. 5. 6.] [4. 5. 6.]\n",
      "[2. 5. 8.] [2. 5. 8.]\n",
      "5.0\n"
     ]
    }
   ],
   "source": [
    "#평균과 중앙값: [ndarray 배열 객체].mean(), np.mean() / np.median()\n",
    "a = np.arange(1, 10).reshape(3,3)\n",
    "print(a)\n",
    "print(a.mean(), np.mean(a)) #axis = None\n",
    "print(a.mean(axis = 0), np.mean(a, axis = 0))\n",
    "print(a.mean(axis = 1), np.mean(a, axis = 1))\n",
    "print(np.median(a)) #중앙값은 [ndarray 배열 객체].median() 불가능"
   ]
  },
  {
   "cell_type": "code",
   "execution_count": 32,
   "id": "18ec12a6-04b5-4f38-bc77-ce6c7aba9277",
   "metadata": {},
   "outputs": [
    {
     "name": "stdout",
     "output_type": "stream",
     "text": [
      "[[1 2 3]\n",
      " [4 5 6]\n",
      " [7 8 9]]\n",
      "2.581988897471611 2.581988897471611\n",
      "[2.44948974 2.44948974 2.44948974] [2.44948974 2.44948974 2.44948974]\n",
      "[0.81649658 0.81649658 0.81649658] [0.81649658 0.81649658 0.81649658]\n"
     ]
    }
   ],
   "source": [
    "#표준편차: [ndarray 배열 객체].std(), np.std()\n",
    "a = np.arange(1, 10).reshape(3,3)\n",
    "print(a)\n",
    "print(a.std(), np.std(a)) #axis = None\n",
    "print(a.std(axis = 0), np.std(a, axis = 0))\n",
    "print(a.std(axis = 1), np.std(a, axis = 1))"
   ]
  },
  {
   "cell_type": "markdown",
   "id": "deab155e-a642-4285-9c12-8db714afc0c4",
   "metadata": {},
   "source": [
    "### 브로드캐스팅 연산\n",
    "- shape가 같은 두 배열의 이항연산 = 배열의 요소별로 진행\n",
    "- shape가 다른 두 배열의 이항연산 = 두 배열 간의 형상을 맞추는 Broadcasting 진행\n",
    "- 브로드캐스팅: 어떤 조건만 만족한다면 모양이 다른 배열끼리 연산 가능, 모양이 부족한 부분은 확장하여 연산 수행"
   ]
  },
  {
   "cell_type": "code",
   "execution_count": 33,
   "id": "4953db18-290f-40c7-9a84-50a54c26b95e",
   "metadata": {},
   "outputs": [
    {
     "name": "stdout",
     "output_type": "stream",
     "text": [
      "[2 3 4 5 6]\n",
      "[2 3 4 5 6]\n"
     ]
    }
   ],
   "source": [
    "#브로드캐스팅 개념\n",
    "\n",
    "#사용하지 않은 경우\n",
    "x = np.array([1,2,3,4,5])\n",
    "y = np.array([1,1,1,1,1])\n",
    "print(x+y)\n",
    "#사용한 경우\n",
    "y = 1 # 1 하나인데 확장해서 계산\n",
    "print(x+y)"
   ]
  },
  {
   "cell_type": "markdown",
   "id": "be4600a5-3a24-4dd3-8bf3-796cccd124fb",
   "metadata": {},
   "source": [
    "### shape가 다른 두 배열의 연산\n",
    "- shape가 다른 두 배열 사이의 이항 연산에서 브로드캐스팅 발생\n",
    "- 두 배열을 같은 shape로 만든 후 연산 시행"
   ]
  },
  {
   "cell_type": "code",
   "execution_count": 36,
   "id": "a4d50dde-9eac-40ae-9167-5b278d8e0b0d",
   "metadata": {},
   "outputs": [
    {
     "name": "stdout",
     "output_type": "stream",
     "text": [
      "[[101 102 103 104 105 106]\n",
      " [107 108 109 110 111 112]\n",
      " [113 114 115 116 117 118]\n",
      " [119 120 121 122 123 124]]\n",
      "---------------------------------\n",
      "[[100 100 100 100 100 100]\n",
      " [100 100 100 100 100 100]\n",
      " [100 100 100 100 100 100]\n",
      " [100 100 100 100 100 100]]\n",
      "---------------------------------\n",
      "[[101 102 103 104 105 106]\n",
      " [107 108 109 110 111 112]\n",
      " [113 114 115 116 117 118]\n",
      " [119 120 121 122 123 124]]\n"
     ]
    }
   ],
   "source": [
    "# Case 1 = 배열과 스칼라\n",
    "a = np.arange(1,25).reshape(4,6)\n",
    "print(a + 100) #브로드캐스팅\n",
    "print('---------------------------------')\n",
    "#step 1: 스칼라 배열 변경\n",
    "new_arr = np.full_like(a, 100)\n",
    "print(new_arr)\n",
    "print('---------------------------------')\n",
    "#step 2: 배열 이항 연산\n",
    "print(a+new_arr)"
   ]
  },
  {
   "cell_type": "code",
   "execution_count": 37,
   "id": "1ca1cd66-37f2-4ba5-97dc-c3633c5a819e",
   "metadata": {},
   "outputs": [
    {
     "name": "stdout",
     "output_type": "stream",
     "text": [
      "[[0 1 2 3 4]]\n",
      "---------------------------------\n",
      "[[0]\n",
      " [1]\n",
      " [2]\n",
      " [3]\n",
      " [4]]\n",
      "---------------------------------\n",
      "[[0 1 2 3 4]\n",
      " [1 2 3 4 5]\n",
      " [2 3 4 5 6]\n",
      " [3 4 5 6 7]\n",
      " [4 5 6 7 8]]\n"
     ]
    }
   ],
   "source": [
    "# Case2 = Shape가 다른 배열들의 연산\n",
    "a = np.arange(5).reshape(1,5)\n",
    "print(a)\n",
    "print('---------------------------------')\n",
    "b = np.arange(5).reshape(5,1)\n",
    "print(b)\n",
    "print('---------------------------------')\n",
    "print(a + b) #브로드캐스팅"
   ]
  },
  {
   "cell_type": "code",
   "execution_count": 38,
   "id": "3d29f70a-8f62-49d9-a8ac-78015bb70d9a",
   "metadata": {},
   "outputs": [
    {
     "name": "stdout",
     "output_type": "stream",
     "text": [
      "49999995000000 0.7105767726898193\n",
      "49999995000000 0.0017080307006835938\n"
     ]
    }
   ],
   "source": [
    "# 벡터 연산\n",
    "import numpy as np\n",
    "import time\n",
    "a = np.arange(10000000)\n",
    "result = 0\n",
    "s = time.time()\n",
    "for v in a:\n",
    "    result += v\n",
    "e = time.time()\n",
    "print(result, e-s) #반복문 연산 소요 시간\n",
    "s = time.time()\n",
    "result = np.sum(a) #벡터 연산\n",
    "e = time.time()\n",
    "print(result, e-s) #벡터 연산 수행시간"
   ]
  },
  {
   "cell_type": "code",
   "execution_count": null,
   "id": "7f52f141-175e-42c4-b4c8-0c7c7e1abc5c",
   "metadata": {},
   "outputs": [],
   "source": []
  }
 ],
 "metadata": {
  "kernelspec": {
   "display_name": "Python 3 (ipykernel)",
   "language": "python",
   "name": "python3"
  },
  "language_info": {
   "codemirror_mode": {
    "name": "ipython",
    "version": 3
   },
   "file_extension": ".py",
   "mimetype": "text/x-python",
   "name": "python",
   "nbconvert_exporter": "python",
   "pygments_lexer": "ipython3",
   "version": "3.9.13"
  }
 },
 "nbformat": 4,
 "nbformat_minor": 5
}
